{
 "cells": [
  {
   "cell_type": "markdown",
   "metadata": {},
   "source": [
    "\n",
    "# CIS024C - Spring 2018 - Monday 5:30-9:25pm \n",
    "\n",
    "## Homework 10\n",
    "\n",
    "Homework 10 covers object oriented programming in Python\n",
    "\n",
    "The below sites have some interesting and useful information on working with files\n",
    "\n",
    "https://drive.google.com/open?id=1OrcpXEmhvgcJxSlchIBsvmXST0lG_uKx\n",
    "http://www.tutorialspoint.com/python/python_classes_objects.htm\n",
    "\n",
    "You will need to download this notebook and use this as a starting point for your homework. You will just need to fill in the content of each code-block (cell) and execute. Once you have completed all the exercises, you will need to save and upload this to your github repository under a folder called hw10.\n",
    "\n",
    "Note also the exercises build on top of one another so you might be able to do the next exercise if you have not completed the previous exercise.\n",
    "\n",
    "Post any questions you have on our Slack at **cis-024c1.slack.com**\n",
    "\n",
    "** Slides ** for Week 10 can be found at \n",
    "\n",
    "https://docs.google.com/presentation/d/1AigvCKV1yb3PrrcT5xt3IqyAwGpv6IKMNWYUiQ2Oy6k/edit?usp=sharing\n",
    "\n",
    "**Please refer back to hw1 and slack for instructions on how to setup your computer for developing using Python.**"
   ]
  },
  {
   "cell_type": "markdown",
   "metadata": {},
   "source": [
    "### Helpful Jupyter Commands\n",
    "\n",
    "Below are some useful commands to know when using Jupyter\n",
    "\n",
    "1. You can add a new cell by clicking on the \"+\" icon on top.\n",
    "2. You can delete a cell by selecting that cell and clicking on the \"scissors\" icon on top.\n",
    "3. You can execute a cell by either pressing shift+enter or selecting the \"play\" button on top.\n",
    "4. You can create a new file in Jupyter via the File menu->New Notebook option. Make sure to select Python 2 when creating your notebook.\n",
    "5. Also, for your code blocks make sure that Code is selected instead of another option like Markdown.\n",
    "6. Use the Enter key to go to the next line in a cell to enter the next statement.\n",
    "7. You can clear results by clicking on the Cell menu item and selecting Current Output->Clear or All Output->Clear depending on whether you are trying to just clear the output for one cell or for all cells.\n",
    "8. In case your program has crashed for some reason (infinite loop, for example), you can restart your Python session by select Kernel in the menu and selecting Restart.\n"
   ]
  },
  {
   "cell_type": "markdown",
   "metadata": {},
   "source": [
    "#### Check Python Version"
   ]
  },
  {
   "cell_type": "code",
   "execution_count": 1,
   "metadata": {},
   "outputs": [
    {
     "name": "stderr",
     "output_type": "stream",
     "text": [
      "Python 2.7.14 :: Anaconda, Inc.\n"
     ]
    }
   ],
   "source": [
    "!python --version"
   ]
  },
  {
   "cell_type": "markdown",
   "metadata": {},
   "source": [
    "#### Sample Exercises with Exception Handling\n",
    "\n",
    "Week 10 Class Work can be found here\n",
    "\n",
    "https://github.com/cis024c/spring2018classwork/blob/master/week10/classwork_04162018.ipynb"
   ]
  },
  {
   "cell_type": "markdown",
   "metadata": {},
   "source": [
    "**Exercise 1 - Testing your knowledge of object oriented programming concepts **\n",
    "\n",
    "Answer the below questions\n",
    "\n",
    "1. Why do we need classes?\n",
    "2. What is encapsulation?"
   ]
  },
  {
   "cell_type": "markdown",
   "metadata": {},
   "source": [
    "1. Classes are a way to organize your code into generic,reusable piece. At the best, they are the blueprints for things that will be used over and over again with little modification. \n",
    "2. Encapsulation is the mechanism for restricting the access to some of an object's components, in another word, the internal representation of an object can't be seen from outside of object definition.This can prevent the data from being modified by accident."
   ]
  },
  {
   "cell_type": "markdown",
   "metadata": {},
   "source": [
    "** Exercise 2 - Class creation **\n",
    "\n",
    "Create a Python class named **Employee** with the following attributes and methods\n",
    "\n",
    "Data members\n",
    "```\n",
    "1. employeeName  - type string\n",
    "2. employeeAge  - type int\n",
    "3. employeeSalary - type float\n",
    "```\n",
    "\n",
    "Methods:\n",
    "```\n",
    "1. getEmployee - returns employee name\n",
    "2. getEmployeeAge - gets the employee age\n",
    "3. getEmployeeSalary - returns the employee salary\n",
    "4. __init__ - initialize method accepts the name, age and salary of the employee\n",
    "```\n",
    "\n",
    "Create an object of type Employee and initialize with arbitrary values. Invoke the get methods and display the result."
   ]
  },
  {
   "cell_type": "code",
   "execution_count": 5,
   "metadata": {
    "collapsed": true
   },
   "outputs": [],
   "source": [
    "### YOUR CODE GOES BELOW\n",
    "class Employee:\n",
    "    def __init__(self, employeeName, employeeAge, employeeSalary):\n",
    "        self.employeeName = str(employeeName)\n",
    "        self.employeeAge = int(employeeAge)\n",
    "        self.employeeSalary = float(employeeSalary)\n",
    "    def getEmployee(self):\n",
    "        return self.employeeName\n",
    "    def getEmployeeAge(self):\n",
    "        return self.employeeAge\n",
    "    def getEmployeeSalary(self):\n",
    "        return self.employeeSalary\n",
    "    \n",
    "    def __str__ (self):\n",
    "        results = \"\\nEmployee Name: \" + str(self.getEmployee())\n",
    "        results += \"\\nEmployee Age: \" + str(self.getEmployeeAge())\n",
    "        results += \"\\nEmployee Salary: \" + str(self.getEmployeeSalary())\n",
    "        \n",
    "        return results\n",
    "\n",
    "### END CODE"
   ]
  },
  {
   "cell_type": "code",
   "execution_count": 6,
   "metadata": {},
   "outputs": [
    {
     "name": "stdout",
     "output_type": "stream",
     "text": [
      "\n",
      "Employee Name: Alice\n",
      "Employee Age: 35\n",
      "Employee Salary: 75000.0\n"
     ]
    }
   ],
   "source": [
    "EmployeeInfo = Employee(\"Alice\", 35, 75000)\n",
    "\n",
    "print EmployeeInfo"
   ]
  },
  {
   "cell_type": "markdown",
   "metadata": {},
   "source": [
    "#### Exercise 3 - Private members\n",
    "\n",
    "In the above **Employee** class make the employeeName, employeeAge and employeeSalary private so that their access is restricted to only within the class."
   ]
  },
  {
   "cell_type": "code",
   "execution_count": 29,
   "metadata": {
    "collapsed": true
   },
   "outputs": [],
   "source": [
    "### YOUR CODE GOES BELOW\n",
    "class Employee:\n",
    "    def __init__(self, employeeName, employeeAge, employeeSalary):\n",
    "        self.__employeeName = str(employeeName)\n",
    "        self.__employeeAge = int(employeeAge)\n",
    "        self.__employeeSalary = float(employeeSalary)\n",
    "    def getEmployee(self):\n",
    "        return self.__employeeName\n",
    "    def getEmployeeAge(self):\n",
    "        return self.__employeeAge\n",
    "    def getEmployeeSalary(self):\n",
    "        return self.__employeeSalary\n",
    "    \n",
    "### END CODE"
   ]
  },
  {
   "cell_type": "code",
   "execution_count": 36,
   "metadata": {
    "collapsed": true
   },
   "outputs": [],
   "source": [
    "Employeeinfo = Employee(\"Bob\", 28, 95000)\n",
    "\n"
   ]
  },
  {
   "cell_type": "code",
   "execution_count": 37,
   "metadata": {},
   "outputs": [
    {
     "name": "stdout",
     "output_type": "stream",
     "text": [
      "\n",
      "Employee Name:  Bob\n",
      "\n",
      "Employee Age:  28\n",
      "\n",
      "Employee Salary:  95000.0\n"
     ]
    }
   ],
   "source": [
    "print \"\\nEmployee Name: \",Employeeinfo.getEmployee()\n",
    "print \"\\nEmployee Age: \",Employeeinfo.getEmployeeAge()\n",
    "print \"\\nEmployee Salary: \",Employeeinfo.getEmployeeSalary()"
   ]
  },
  {
   "cell_type": "markdown",
   "metadata": {},
   "source": [
    "#### Exercise 4 - Adding setters and working with a list of Employees\n",
    "\n",
    "In the **Employee** class add the following methods\n",
    "\n",
    "```\n",
    "1. setEmployeeAge - accepts age and sets it in the object\n",
    "2. setEmployeeName - accepts employee name and sets it in the object\n",
    "3. setEmployeeSalary - accepts employee salary and sets it i nthe object\n",
    "```\n",
    "\n",
    "Create a list of employees called employeeList. Initialize the list with three objects of type Employee. Initialize the object with the values \"None\" for employeeName, 0 for employeeAge and 0 for employeeSalary.\n",
    "\n",
    "Loop  through each employee in the employeeList. Each time, request the user to enter the name, age and salary of a different employee. Use the set methods to set the name, age and salary for each employee in the employeeList.\n",
    "\n",
    "Loop through each employee in the employeeList. Display the name, age and salary of each employee."
   ]
  },
  {
   "cell_type": "code",
   "execution_count": 1,
   "metadata": {
    "collapsed": true
   },
   "outputs": [],
   "source": [
    "### YOUR CODE GOES BELOW\n",
    "class Employee:\n",
    "    def __init__(self, employeeName, employeeAge, employeeSalary):\n",
    "        self.employeeName = str(employeeName)\n",
    "        self.employeeAge = int(employeeAge)\n",
    "        self.employeeSalary = float(employeeSalary)\n",
    "    def setEmployee(self,employeeName):\n",
    "        self.employeeName = employeeName\n",
    "    def setEmployeeAge(self,employeeAge):\n",
    "         self.employeeAge = employeeAge\n",
    "    def setEmployeeSalary(self,employeeSalary):\n",
    "        self.employeeSalary = employeeSalary\n",
    "    \n",
    "    \n",
    "    def results(self):\n",
    "         return [self.employeeName, self.employeeAge, self.employeeSalary]\n",
    "\n",
    "### END CODE"
   ]
  },
  {
   "cell_type": "code",
   "execution_count": 6,
   "metadata": {},
   "outputs": [
    {
     "name": "stdout",
     "output_type": "stream",
     "text": [
      "Please enter an employee name: Alice\n",
      "Please enter age of that employee: 34\n",
      "Please enter salary information for the employee: 75000\n",
      "Please enter an employee name: Bob\n",
      "Please enter age of that employee: 34\n",
      "Please enter salary information for the employee: 80000\n",
      "Please enter an employee name: Harry\n",
      "Please enter age of that employee: 36\n",
      "Please enter salary information for the employee: 90000\n",
      "Employee name: Alice, Employee Age: 34,Employee Salary: 75000.000000\n",
      "Employee name: Bob, Employee Age: 34,Employee Salary: 80000.000000\n",
      "Employee name: Harry, Employee Age: 36,Employee Salary: 90000.000000\n"
     ]
    }
   ],
   "source": [
    "employeeList = []\n",
    "initialList = Employee(\"None\", 0, 0)\n",
    "empcount = 1\n",
    "while empcount <=3:\n",
    "    \n",
    "    name = raw_input(\"Please enter an employee name: \")\n",
    "    age = int(raw_input(\"Please enter age of that employee: \"))\n",
    "    salary = float(raw_input(\"Please enter salary information for the employee: \"))\n",
    "    \n",
    "    initialList.setEmployee(name)\n",
    "    initialList.setEmployeeAge(age)\n",
    "    initialList.setEmployeeSalary(salary)\n",
    "    \n",
    "    employeeList.append(initialList.results())\n",
    "    empcount += 1\n",
    "    \n",
    "for employee in employeeList:\n",
    "    print \"Employee name: %s, Employee Age: %d,Employee Salary: %f\" %(employee[0],employee[1],employee[2])\n",
    "\n",
    "\n",
    "\n"
   ]
  },
  {
   "cell_type": "markdown",
   "metadata": {},
   "source": [
    "#### Exercise 5 -  Creating a Python calculator class\n",
    "\n",
    "Create a Python class called Calculator. \n",
    "\n",
    "The class has the following data members\n",
    "\n",
    "```\n",
    "1. number1 - type float\n",
    "2. number2 - type float\n",
    "```\n",
    "\n",
    "The class must have the below methods\n",
    "\n",
    "```\n",
    "1. add - adds two numbers and returns the result\n",
    "2. subtract - subtracts the first number from the second number and returns the result\n",
    "3. multiply - multiply two numbers and returns the result\n",
    "4. divide - divide the first number by the second number and returns the result\n",
    "5. __init__ - accepts two numbers and uses those numbers to initialize number1 and number2 respectively\n",
    "```\n",
    "\n",
    "Create an object of the Calculator class. Initialize it with any two arbitrary numbers. Invoke the methods add, subtract, multiple and divide and display the result\n",
    "\n",
    "\n"
   ]
  },
  {
   "cell_type": "code",
   "execution_count": 39,
   "metadata": {
    "collapsed": true
   },
   "outputs": [],
   "source": [
    "### YOUR CODE GOES \n",
    "class Calculator:\n",
    "    def __init__(self, number1,number2):\n",
    "        self.number1 = float(number1)\n",
    "        self.number2 = float(number2)\n",
    "    def add(self):\n",
    "        return self.number1 + self.number2\n",
    "    def substract(self):\n",
    "        return self.number2 - self.number1\n",
    "    def multiply(self):\n",
    "        return self.number1 * self.number2\n",
    "    def divide(self):\n",
    "        return self.number1/self.number2\n",
    "    \n",
    "    def __str__(self):\n",
    "        result = \"\\nAdd: \" + str(self.add())\n",
    "        result += \"\\nSubstract: \" + str(self.substract())\n",
    "        result += \"\\nMultiply: \" + str(self.multiply())\n",
    "        result += \"\\nDivice: \" + str(self.divide())\n",
    "        \n",
    "        return result\n",
    "\n",
    "### END CODE"
   ]
  },
  {
   "cell_type": "code",
   "execution_count": 40,
   "metadata": {},
   "outputs": [
    {
     "name": "stdout",
     "output_type": "stream",
     "text": [
      "\n",
      "Add: 15.0\n",
      "Substract: -5.0\n",
      "Multiply: 50.0\n",
      "Divice: 2.0\n"
     ]
    }
   ],
   "source": [
    "Calnum = Calculator(10,5)\n",
    "print Calnum"
   ]
  },
  {
   "cell_type": "markdown",
   "metadata": {},
   "source": [
    "# Optional Exercise"
   ]
  },
  {
   "cell_type": "markdown",
   "metadata": {},
   "source": [
    "#### Exercise 6"
   ]
  },
  {
   "cell_type": "markdown",
   "metadata": {
    "collapsed": true
   },
   "source": [
    "In the next two problems, you’ll be building an address book using object-­‐oriented programming in Python. To begin, you’ll define a Person class. You’ll use this class in the next problem to build your address book – each entry in your address book will be an instance of the Person class.\n",
    "\n",
    "To begin, define the    init    and    str    methods for the Person class. Read the Python documentation if needed to help you understand what    init__ and    str \t need to do.\n",
    "\n",
    "Here’s an example interaction in the Python shell demonstrating how your class should work after implementing these two methods:"
   ]
  },
  {
   "cell_type": "raw",
   "metadata": {},
   "source": [
    "Emily = Person(“Zhang”, “Emily”, “5559358150”, “emzhang@mit.edu”)\n",
    "print Emily\n",
    "Zhang, Emily -- Phone Number: 5559358150 -- Email Address(es): emzhang@mit.edu\n",
    "Wesley = Person(“Graybill”, “Wesley”, “5551940325”, [‘wgray496@mit.edu’, ‘wdgraybill@gmail.com’])\n",
    "print Wesley\n",
    "Graybill, Wesley -- Phone Number: 5551940325 -- Email Address(es): wgray496@mit.edu, wdgraybill@gmail.com"
   ]
  },
  {
   "cell_type": "code",
   "execution_count": 158,
   "metadata": {
    "collapsed": true
   },
   "outputs": [],
   "source": [
    "### YOUR CODE GOES \n",
    "class Person:\n",
    "    def __init__(self, lastname,firstname,phone,email=[]):\n",
    "        self.lastname = str(lastname)\n",
    "        self.firstname = str(firstname)\n",
    "        self.phone = str(phone)\n",
    "        self.email = email\n",
    "     \n",
    "        \n",
    "    def getlastname(self):\n",
    "        return self.lastname\n",
    "    def getfirstname(self):\n",
    "        return self.firstname\n",
    "    def getphone(self):\n",
    "        return self.phone\n",
    "    def getemail(self):\n",
    "        return self.email\n",
    "    \n",
    "    def setphone(self,newphone):\n",
    "        self.phone = newphone\n",
    "    def setemail(self, newemail):\n",
    "        self.email = newemail\n",
    "    \n",
    "    def __str__(self):\n",
    "        \n",
    "        return \"%s,%s -- Phone Number: %s -- Email Address(es):%s\" % (self.lastname,self.firstname,self.phone,self.email)\n",
    "\n",
    "\n",
    "\n",
    "  \n",
    "\n",
    "### END CODE"
   ]
  },
  {
   "cell_type": "code",
   "execution_count": 159,
   "metadata": {},
   "outputs": [
    {
     "name": "stdout",
     "output_type": "stream",
     "text": [
      "Zhang,Emily -- Phone Number: 5559358150 -- Email Address(es):emzhang@mit.edu\n"
     ]
    }
   ],
   "source": [
    "Emily = Person(\"Zhang\",\"Emily\", \"5559358150\", \"emzhang@mit.edu\")\n",
    "print Emily"
   ]
  },
  {
   "cell_type": "code",
   "execution_count": 160,
   "metadata": {},
   "outputs": [
    {
     "ename": "SyntaxError",
     "evalue": "invalid syntax (<ipython-input-160-2d771f352dbb>, line 1)",
     "output_type": "error",
     "traceback": [
      "\u001b[1;36m  File \u001b[1;32m\"<ipython-input-160-2d771f352dbb>\"\u001b[1;36m, line \u001b[1;32m1\u001b[0m\n\u001b[1;33m    Wesley = Person(\"Graybill”, “Wesley”, “5551940325”, [\"wgray496@mit.edu\", \"wdgraybill@gmail.com\"])\u001b[0m\n\u001b[1;37m                                                                           ^\u001b[0m\n\u001b[1;31mSyntaxError\u001b[0m\u001b[1;31m:\u001b[0m invalid syntax\n"
     ]
    }
   ],
   "source": [
    "Wesley = Person(\"Graybill”, “Wesley”, “5551940325”, [\"wgray496@mit.edu\", \"wdgraybill@gmail.com\"])\n",
    "print Wesley"
   ]
  },
  {
   "cell_type": "markdown",
   "metadata": {},
   "source": [
    "#### Exercise 7"
   ]
  },
  {
   "cell_type": "markdown",
   "metadata": {},
   "source": [
    "In this problem, you will use your Person class from the previous problem to create an address book for storing the contacts of your friends and family. It should allow you to search the address book for a friend, and return their contact information.\n",
    "\n",
    "Begin by defining an   init   method. Don’t forget about Python's built-­‐in dictionary data type.\n",
    "\n",
    "Next, write a method add_contact that allows you to add a new person to the address book.\n",
    "\n",
    "Finally, write a method lookup_contact that looks up a contact by last name. The method should accept the last name as an argument, and print each contact that matches the last name on a new line. As an additional challenge, extend this method to allow users to optionally specify a first name to narrow down the results when multiple contacts have the same last name. To learn more about optional arguments in Python, search for terms such as “optional arguments in Python” and “default arguments in Python”.\n",
    "\n",
    "For example, suppose the contact book contains entries for both Ali Kamil, and his wife Sama Kamil. The following is an example output:\n"
   ]
  },
  {
   "cell_type": "raw",
   "metadata": {},
   "source": [
    ">>> a = AddressBook()\n",
    ">>> a.add_person(Person(“Kamil”, “Ali”, … ))\n",
    ">>> a.add_person(Person(“Kamil”, “Sama”, … ))\n",
    ">>> a.lookup_contact(“Kamil”) Kamil, Ali -- Phone Number: … Kamil, Sama -- Phone Number: …\n",
    ">>> a.lookup_contact(“Kamil”, “Ali”)\n",
    "Kamil, Ali -- Phone Number: …\n"
   ]
  },
  {
   "cell_type": "code",
   "execution_count": 6,
   "metadata": {
    "collapsed": true
   },
   "outputs": [],
   "source": [
    "### YOUR CODE GOES \n",
    "class Addressbook(Person):\n",
    "    def __init__(self, )\n",
    "\n",
    "### END CODE"
   ]
  },
  {
   "cell_type": "code",
   "execution_count": null,
   "metadata": {
    "collapsed": true
   },
   "outputs": [],
   "source": []
  }
 ],
 "metadata": {
  "kernelspec": {
   "display_name": "Python 2",
   "language": "python",
   "name": "python2"
  },
  "language_info": {
   "codemirror_mode": {
    "name": "ipython",
    "version": 2
   },
   "file_extension": ".py",
   "mimetype": "text/x-python",
   "name": "python",
   "nbconvert_exporter": "python",
   "pygments_lexer": "ipython2",
   "version": "2.7.14"
  }
 },
 "nbformat": 4,
 "nbformat_minor": 2
}
